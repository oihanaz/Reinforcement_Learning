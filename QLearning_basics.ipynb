{
 "cells": [
  {
   "cell_type": "markdown",
   "metadata": {},
   "source": [
    "# Q-Learning Algorithm"
   ]
  },
  {
   "cell_type": "code",
   "execution_count": 1,
   "metadata": {},
   "outputs": [],
   "source": [
    "import numpy as np\n",
    "import matplotlib.pyplot as plt\n",
    "import random\n",
    "\n",
    "class TwoStateEnv(object):\n",
    "    # Class that defines the environment with reward 0 and 1 with probability p.\n",
    "\n",
    "    def __init__(self, num_state = 2, num_action = 2):\n",
    "        self.num_state = num_state\n",
    "        self.num_action = num_action\n",
    "        self.actions = np.arange(self.num_action)     # define set of actions\n",
    "\n",
    "\n",
    "\n",
    "    def reward(self, action, state):\n",
    "        if state == 0:\n",
    "            if action == 0:\n",
    "                return 1\n",
    "            else:\n",
    "                return 10\n",
    "        elif state == 1:\n",
    "            if action == 0:\n",
    "                return 0\n",
    "            else:\n",
    "                return -15\n",
    "\n",
    "    def next_state(self, action, state):\n",
    "      if state == 0:\n",
    "          if action == 0:\n",
    "              return 0\n",
    "          else:\n",
    "              return 1\n",
    "      elif state == 1:\n",
    "          if action == 0:\n",
    "              return 1\n",
    "          else:\n",
    "              return 0\n",
    "          \n",
    "\n",
    "class QLearning(object):\n",
    "    # Class that implements Q-learning.\n",
    "    def __init__(self, env, episodes, n_steps,  gamma=0.9, epsilon=0.1):\n",
    "        self.env = env\n",
    "        self.num_state = env.num_state\n",
    "        self.num_action = env.num_action\n",
    "        self.actions = env.actions\n",
    "        self.n_steps = n_steps\n",
    "        # self.alpha = alpha\n",
    "        self.gamma = gamma\n",
    "        self.epsilon = epsilon\n",
    "        self.episodes = episodes\n",
    "        self.Q = np.zeros((self.num_state, self.num_action))\n",
    "        self.Q_terminal = np.zeros(self.num_action)\n",
    "        self.initial_state = np.random.randint(self.num_state)\n",
    "\n",
    "    def Learning(self):\n",
    "        for i in range(self.episodes):\n",
    "          state = np.random.randint(self.num_state)\n",
    "\n",
    "          for t in range(self.n_steps):\n",
    "            if np.random.rand() < self.epsilon:\n",
    "              action = np.random.choice(self.actions)\n",
    "            else:\n",
    "              action = np.argmax(self.Q[state])\n",
    "\n",
    "            next_state = self.env.next_state(action, state)\n",
    "            reward = self.env.reward(action, state)\n",
    "\n",
    "            self.Q[state, action] += (1/(t+1)) * (reward + self.gamma * np.max(self.Q[next_state]) - self.Q[state, action])\n",
    "            state = next_state\n",
    "\n",
    "        return self.Q"
   ]
  },
  {
   "cell_type": "markdown",
   "metadata": {},
   "source": [
    "### Algorithm application"
   ]
  },
  {
   "cell_type": "code",
   "execution_count": 2,
   "metadata": {},
   "outputs": [
    {
     "name": "stdout",
     "output_type": "stream",
     "text": [
      "[[  1.  10.]\n",
      " [  0. -15.]]\n",
      "[[  2.11111111  10.        ]\n",
      " [  0.         -13.88888889]]\n",
      "[[  3.22222222  10.        ]\n",
      " [  0.         -12.77777778]]\n",
      "[[  4.33333333  10.        ]\n",
      " [  0.         -11.66666667]]\n",
      "[[  5.44444444  10.        ]\n",
      " [  0.         -10.55555556]]\n",
      "[[ 6.55555556 10.        ]\n",
      " [ 0.         -9.44444444]]\n",
      "[[ 7.66666667 10.        ]\n",
      " [ 0.         -8.33333333]]\n",
      "[[ 8.77777778 10.        ]\n",
      " [ 0.         -7.22222222]]\n",
      "[[ 9.88888889 10.        ]\n",
      " [ 0.         -6.11111111]]\n",
      "[[42149.91917416 42121.6223828 ]\n",
      " [41979.78011728 42131.41388832]]\n",
      "[np.int64(1), np.int64(1), np.int64(1), np.int64(1), np.int64(1), np.int64(1), np.int64(1), np.int64(1), np.int64(1), np.int64(0)]\n",
      "[np.int64(0), np.int64(0), np.int64(0), np.int64(0), np.int64(0), np.int64(0), np.int64(0), np.int64(0), np.int64(0), np.int64(1)]\n"
     ]
    },
    {
     "data": {
      "image/png": "[encoded data removed]",
      "text/plain": [
       "<Figure size 640x480 with 1 Axes>"
      ]
     },
     "metadata": {},
     "output_type": "display_data"
    }
   ],
   "source": [
    "gammas = np.linspace(0,1, 10)\n",
    "plt.figure()\n",
    "state_0 = []\n",
    "state_1 = []\n",
    "\n",
    "for gamma in gammas:\n",
    "  env = TwoStateEnv()\n",
    "  q_learning = QLearning(env, n_steps= 100, episodes = 10000, gamma=gamma)\n",
    "  Q = q_learning.Learning()\n",
    "\n",
    "  state_0.append(np.argmax(Q[0]))\n",
    "  state_1.append(np.argmax(Q[1]))\n",
    "\n",
    "  print(Q)\n",
    "\n",
    "print(state_0)\n",
    "print(state_1)\n",
    "\n",
    "plt.plot(gammas,state_0, label = \"state 0\")\n",
    "plt.plot(gammas,state_1, label = \"state 1\")\n",
    "plt.legend()\n",
    "plt.show()\n",
    "\n"
   ]
  }
 ],
 "metadata": {
  "kernelspec": {
   "display_name": "Python 3",
   "language": "python",
   "name": "python3"
  },
  "language_info": {
   "codemirror_mode": {
    "name": "ipython",
    "version": 3
   },
   "file_extension": ".py",
   "mimetype": "text/x-python",
   "name": "python",
   "nbconvert_exporter": "python",
   "pygments_lexer": "ipython3",
   "version": "3.13.0"
  }
 },
 "nbformat": 4,
 "nbformat_minor": 2
}
